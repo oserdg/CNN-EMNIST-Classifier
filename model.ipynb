{
 "cells": [
  {
   "cell_type": "markdown",
   "id": "da013ed5-cb33-4941-93b1-5e1be0d42c5e",
   "metadata": {},
   "source": [
    "# IMAGE CLASSIFICATION USING DEEP LEARNING\n",
    "    This notebook shows how to build an image classification system using TensorFlow. It covers loading data, preparing it, creating a CNN model, training it, and checking its performance\n"
   ]
  },
  {
   "cell_type": "markdown",
   "id": "afff204f-2eae-4f2e-93b3-504d02f18771",
   "metadata": {},
   "source": [
    "## Importing Required Libraries"
   ]
  },
  {
   "cell_type": "code",
   "execution_count": 1,
   "id": "6bcbde29-29f6-4e93-8dd5-41ed0b926978",
   "metadata": {},
   "outputs": [],
   "source": [
    "import numpy as np\n",
    "import pandas as pd\n",
    "import matplotlib.pyplot as plt"
   ]
  },
  {
   "cell_type": "code",
   "execution_count": 2,
   "id": "7cf811d6-707e-482f-9ae8-98f5988410ef",
   "metadata": {},
   "outputs": [],
   "source": [
    "TRAIN_IMAGES_PATH = \"emnist_source_files/emnist-balanced-train-images-idx3-ubyte\"\n",
    "TRAIN_LABELS_PATH = \"emnist_source_files/emnist-balanced-train-labels-idx1-ubyte\"\n",
    "TEST_IMAGES_PATH = \"emnist_source_files/emnist-balanced-test-images-idx3-ubyte\"\n",
    "TEST_LABELS_PATH = \"emnist_source_files/emnist-balanced-test-labels-idx1-ubyte\""
   ]
  },
  {
   "cell_type": "code",
   "execution_count": 3,
   "id": "51b82924-5cf6-45a3-9481-3f592b296501",
   "metadata": {},
   "outputs": [],
   "source": [
    "def load_images(filepath):\n",
    "    with open(filepath,\"rb\") as f:\n",
    "        data = np.frombuffer(f.read(),np.uint8,offset=16)\n",
    "        return data.reshape(-1,28,28,1).astype(np.float32) / 255.0\n",
    "\n",
    "def load_labels(filepath):\n",
    "    with open(filepath, 'rb') as f:\n",
    "        data = np.frombuffer(f.read(),np.uint8,offset=8)\n",
    "        return data"
   ]
  },
  {
   "cell_type": "markdown",
   "id": "358e626b-6248-4637-9d92-b47fba37ca3e",
   "metadata": {},
   "source": [
    "## Loading and Prepearing the Dataset"
   ]
  },
  {
   "cell_type": "code",
   "execution_count": 4,
   "id": "49cfd7b0-1295-40e7-9899-a415cde47b9a",
   "metadata": {},
   "outputs": [],
   "source": [
    "train_images = load_images(TRAIN_IMAGES_PATH)\n",
    "train_labels = load_labels(TRAIN_LABELS_PATH)\n",
    "test_images = load_images(TEST_IMAGES_PATH)\n",
    "test_labels = load_labels(TEST_LABELS_PATH)"
   ]
  },
  {
   "cell_type": "code",
   "execution_count": 5,
   "id": "51791653-bdf2-4d34-935e-31b4cca0b2ef",
   "metadata": {},
   "outputs": [
    {
     "data": {
      "text/plain": [
       "array([45, 36, 43, ..., 23, 31,  8], dtype=uint8)"
      ]
     },
     "execution_count": 5,
     "metadata": {},
     "output_type": "execute_result"
    }
   ],
   "source": [
    "train_labels"
   ]
  },
  {
   "cell_type": "markdown",
   "id": "121684bc-0829-4cdc-bc44-4e8095d92d3a",
   "metadata": {},
   "source": [
    "## Building the CNN Model"
   ]
  },
  {
   "cell_type": "code",
   "execution_count": 6,
   "id": "9cdef1d2-9d67-4516-942c-9fbb17c12224",
   "metadata": {},
   "outputs": [],
   "source": [
    "import keras\n",
    "import tensorflow as tf"
   ]
  },
  {
   "cell_type": "code",
   "execution_count": 7,
   "id": "b19b107a-088f-44ff-af97-538fb80c329f",
   "metadata": {},
   "outputs": [],
   "source": [
    "train_labels = keras.utils.to_categorical(train_labels,num_classes=47)\n",
    "test_labels = keras.utils.to_categorical(test_labels,num_classes=47)"
   ]
  },
  {
   "cell_type": "code",
   "execution_count": 8,
   "id": "8d70e600-22bb-4a93-9413-ad12239c2129",
   "metadata": {},
   "outputs": [],
   "source": [
    "train_ds = tf.data.Dataset.from_tensor_slices((train_images,train_labels)).shuffle(10000).batch(128)\n",
    "test_ds = tf.data.Dataset.from_tensor_slices((test_images,test_labels)).batch(128)"
   ]
  },
  {
   "cell_type": "code",
   "execution_count": 9,
   "id": "9d7333d9-fa45-43f8-89bd-36b664ea8c87",
   "metadata": {},
   "outputs": [
    {
     "name": "stdout",
     "output_type": "stream",
     "text": [
      "Train Shape: (112800, 28, 28, 1), (112800, 47)\n",
      "Test Shape: (18800, 28, 28, 1), (18800, 47)\n"
     ]
    }
   ],
   "source": [
    "print(f\"Train Shape: {train_images.shape}, {train_labels.shape}\")\n",
    "print(f\"Test Shape: {test_images.shape}, {test_labels.shape}\")"
   ]
  },
  {
   "cell_type": "code",
   "execution_count": 10,
   "id": "fa7f686e-7585-482c-b7c6-750565150a6c",
   "metadata": {},
   "outputs": [],
   "source": [
    "from keras import layers"
   ]
  },
  {
   "cell_type": "code",
   "execution_count": 11,
   "id": "66e78ddb-6b74-4dd5-83d3-8c5d7fc2d21e",
   "metadata": {},
   "outputs": [
    {
     "data": {
      "text/html": [
       "<pre style=\"white-space:pre;overflow-x:auto;line-height:normal;font-family:Menlo,'DejaVu Sans Mono',consolas,'Courier New',monospace\"><span style=\"font-weight: bold\">Model: \"sequential\"</span>\n",
       "</pre>\n"
      ],
      "text/plain": [
       "\u001b[1mModel: \"sequential\"\u001b[0m\n"
      ]
     },
     "metadata": {},
     "output_type": "display_data"
    },
    {
     "data": {
      "text/html": [
       "<pre style=\"white-space:pre;overflow-x:auto;line-height:normal;font-family:Menlo,'DejaVu Sans Mono',consolas,'Courier New',monospace\">┏━━━━━━━━━━━━━━━━━━━━━━━━━━━━━━━━━━━━━━┳━━━━━━━━━━━━━━━━━━━━━━━━━━━━━┳━━━━━━━━━━━━━━━━━┓\n",
       "┃<span style=\"font-weight: bold\"> Layer (type)                         </span>┃<span style=\"font-weight: bold\"> Output Shape                </span>┃<span style=\"font-weight: bold\">         Param # </span>┃\n",
       "┡━━━━━━━━━━━━━━━━━━━━━━━━━━━━━━━━━━━━━━╇━━━━━━━━━━━━━━━━━━━━━━━━━━━━━╇━━━━━━━━━━━━━━━━━┩\n",
       "│ conv2d (<span style=\"color: #0087ff; text-decoration-color: #0087ff\">Conv2D</span>)                      │ (<span style=\"color: #00d7ff; text-decoration-color: #00d7ff\">None</span>, <span style=\"color: #00af00; text-decoration-color: #00af00\">26</span>, <span style=\"color: #00af00; text-decoration-color: #00af00\">26</span>, <span style=\"color: #00af00; text-decoration-color: #00af00\">32</span>)          │             <span style=\"color: #00af00; text-decoration-color: #00af00\">320</span> │\n",
       "├──────────────────────────────────────┼─────────────────────────────┼─────────────────┤\n",
       "│ max_pooling2d (<span style=\"color: #0087ff; text-decoration-color: #0087ff\">MaxPooling2D</span>)         │ (<span style=\"color: #00d7ff; text-decoration-color: #00d7ff\">None</span>, <span style=\"color: #00af00; text-decoration-color: #00af00\">13</span>, <span style=\"color: #00af00; text-decoration-color: #00af00\">13</span>, <span style=\"color: #00af00; text-decoration-color: #00af00\">32</span>)          │               <span style=\"color: #00af00; text-decoration-color: #00af00\">0</span> │\n",
       "├──────────────────────────────────────┼─────────────────────────────┼─────────────────┤\n",
       "│ conv2d_1 (<span style=\"color: #0087ff; text-decoration-color: #0087ff\">Conv2D</span>)                    │ (<span style=\"color: #00d7ff; text-decoration-color: #00d7ff\">None</span>, <span style=\"color: #00af00; text-decoration-color: #00af00\">11</span>, <span style=\"color: #00af00; text-decoration-color: #00af00\">11</span>, <span style=\"color: #00af00; text-decoration-color: #00af00\">64</span>)          │          <span style=\"color: #00af00; text-decoration-color: #00af00\">18,496</span> │\n",
       "├──────────────────────────────────────┼─────────────────────────────┼─────────────────┤\n",
       "│ max_pooling2d_1 (<span style=\"color: #0087ff; text-decoration-color: #0087ff\">MaxPooling2D</span>)       │ (<span style=\"color: #00d7ff; text-decoration-color: #00d7ff\">None</span>, <span style=\"color: #00af00; text-decoration-color: #00af00\">5</span>, <span style=\"color: #00af00; text-decoration-color: #00af00\">5</span>, <span style=\"color: #00af00; text-decoration-color: #00af00\">64</span>)            │               <span style=\"color: #00af00; text-decoration-color: #00af00\">0</span> │\n",
       "├──────────────────────────────────────┼─────────────────────────────┼─────────────────┤\n",
       "│ conv2d_2 (<span style=\"color: #0087ff; text-decoration-color: #0087ff\">Conv2D</span>)                    │ (<span style=\"color: #00d7ff; text-decoration-color: #00d7ff\">None</span>, <span style=\"color: #00af00; text-decoration-color: #00af00\">3</span>, <span style=\"color: #00af00; text-decoration-color: #00af00\">3</span>, <span style=\"color: #00af00; text-decoration-color: #00af00\">128</span>)           │          <span style=\"color: #00af00; text-decoration-color: #00af00\">73,856</span> │\n",
       "├──────────────────────────────────────┼─────────────────────────────┼─────────────────┤\n",
       "│ flatten (<span style=\"color: #0087ff; text-decoration-color: #0087ff\">Flatten</span>)                    │ (<span style=\"color: #00d7ff; text-decoration-color: #00d7ff\">None</span>, <span style=\"color: #00af00; text-decoration-color: #00af00\">1152</span>)                │               <span style=\"color: #00af00; text-decoration-color: #00af00\">0</span> │\n",
       "├──────────────────────────────────────┼─────────────────────────────┼─────────────────┤\n",
       "│ dense (<span style=\"color: #0087ff; text-decoration-color: #0087ff\">Dense</span>)                        │ (<span style=\"color: #00d7ff; text-decoration-color: #00d7ff\">None</span>, <span style=\"color: #00af00; text-decoration-color: #00af00\">128</span>)                 │         <span style=\"color: #00af00; text-decoration-color: #00af00\">147,584</span> │\n",
       "├──────────────────────────────────────┼─────────────────────────────┼─────────────────┤\n",
       "│ dense_1 (<span style=\"color: #0087ff; text-decoration-color: #0087ff\">Dense</span>)                      │ (<span style=\"color: #00d7ff; text-decoration-color: #00d7ff\">None</span>, <span style=\"color: #00af00; text-decoration-color: #00af00\">47</span>)                  │           <span style=\"color: #00af00; text-decoration-color: #00af00\">6,063</span> │\n",
       "└──────────────────────────────────────┴─────────────────────────────┴─────────────────┘\n",
       "</pre>\n"
      ],
      "text/plain": [
       "┏━━━━━━━━━━━━━━━━━━━━━━━━━━━━━━━━━━━━━━┳━━━━━━━━━━━━━━━━━━━━━━━━━━━━━┳━━━━━━━━━━━━━━━━━┓\n",
       "┃\u001b[1m \u001b[0m\u001b[1mLayer (type)                        \u001b[0m\u001b[1m \u001b[0m┃\u001b[1m \u001b[0m\u001b[1mOutput Shape               \u001b[0m\u001b[1m \u001b[0m┃\u001b[1m \u001b[0m\u001b[1m        Param #\u001b[0m\u001b[1m \u001b[0m┃\n",
       "┡━━━━━━━━━━━━━━━━━━━━━━━━━━━━━━━━━━━━━━╇━━━━━━━━━━━━━━━━━━━━━━━━━━━━━╇━━━━━━━━━━━━━━━━━┩\n",
       "│ conv2d (\u001b[38;5;33mConv2D\u001b[0m)                      │ (\u001b[38;5;45mNone\u001b[0m, \u001b[38;5;34m26\u001b[0m, \u001b[38;5;34m26\u001b[0m, \u001b[38;5;34m32\u001b[0m)          │             \u001b[38;5;34m320\u001b[0m │\n",
       "├──────────────────────────────────────┼─────────────────────────────┼─────────────────┤\n",
       "│ max_pooling2d (\u001b[38;5;33mMaxPooling2D\u001b[0m)         │ (\u001b[38;5;45mNone\u001b[0m, \u001b[38;5;34m13\u001b[0m, \u001b[38;5;34m13\u001b[0m, \u001b[38;5;34m32\u001b[0m)          │               \u001b[38;5;34m0\u001b[0m │\n",
       "├──────────────────────────────────────┼─────────────────────────────┼─────────────────┤\n",
       "│ conv2d_1 (\u001b[38;5;33mConv2D\u001b[0m)                    │ (\u001b[38;5;45mNone\u001b[0m, \u001b[38;5;34m11\u001b[0m, \u001b[38;5;34m11\u001b[0m, \u001b[38;5;34m64\u001b[0m)          │          \u001b[38;5;34m18,496\u001b[0m │\n",
       "├──────────────────────────────────────┼─────────────────────────────┼─────────────────┤\n",
       "│ max_pooling2d_1 (\u001b[38;5;33mMaxPooling2D\u001b[0m)       │ (\u001b[38;5;45mNone\u001b[0m, \u001b[38;5;34m5\u001b[0m, \u001b[38;5;34m5\u001b[0m, \u001b[38;5;34m64\u001b[0m)            │               \u001b[38;5;34m0\u001b[0m │\n",
       "├──────────────────────────────────────┼─────────────────────────────┼─────────────────┤\n",
       "│ conv2d_2 (\u001b[38;5;33mConv2D\u001b[0m)                    │ (\u001b[38;5;45mNone\u001b[0m, \u001b[38;5;34m3\u001b[0m, \u001b[38;5;34m3\u001b[0m, \u001b[38;5;34m128\u001b[0m)           │          \u001b[38;5;34m73,856\u001b[0m │\n",
       "├──────────────────────────────────────┼─────────────────────────────┼─────────────────┤\n",
       "│ flatten (\u001b[38;5;33mFlatten\u001b[0m)                    │ (\u001b[38;5;45mNone\u001b[0m, \u001b[38;5;34m1152\u001b[0m)                │               \u001b[38;5;34m0\u001b[0m │\n",
       "├──────────────────────────────────────┼─────────────────────────────┼─────────────────┤\n",
       "│ dense (\u001b[38;5;33mDense\u001b[0m)                        │ (\u001b[38;5;45mNone\u001b[0m, \u001b[38;5;34m128\u001b[0m)                 │         \u001b[38;5;34m147,584\u001b[0m │\n",
       "├──────────────────────────────────────┼─────────────────────────────┼─────────────────┤\n",
       "│ dense_1 (\u001b[38;5;33mDense\u001b[0m)                      │ (\u001b[38;5;45mNone\u001b[0m, \u001b[38;5;34m47\u001b[0m)                  │           \u001b[38;5;34m6,063\u001b[0m │\n",
       "└──────────────────────────────────────┴─────────────────────────────┴─────────────────┘\n"
      ]
     },
     "metadata": {},
     "output_type": "display_data"
    },
    {
     "data": {
      "text/html": [
       "<pre style=\"white-space:pre;overflow-x:auto;line-height:normal;font-family:Menlo,'DejaVu Sans Mono',consolas,'Courier New',monospace\"><span style=\"font-weight: bold\"> Total params: </span><span style=\"color: #00af00; text-decoration-color: #00af00\">246,319</span> (962.18 KB)\n",
       "</pre>\n"
      ],
      "text/plain": [
       "\u001b[1m Total params: \u001b[0m\u001b[38;5;34m246,319\u001b[0m (962.18 KB)\n"
      ]
     },
     "metadata": {},
     "output_type": "display_data"
    },
    {
     "data": {
      "text/html": [
       "<pre style=\"white-space:pre;overflow-x:auto;line-height:normal;font-family:Menlo,'DejaVu Sans Mono',consolas,'Courier New',monospace\"><span style=\"font-weight: bold\"> Trainable params: </span><span style=\"color: #00af00; text-decoration-color: #00af00\">246,319</span> (962.18 KB)\n",
       "</pre>\n"
      ],
      "text/plain": [
       "\u001b[1m Trainable params: \u001b[0m\u001b[38;5;34m246,319\u001b[0m (962.18 KB)\n"
      ]
     },
     "metadata": {},
     "output_type": "display_data"
    },
    {
     "data": {
      "text/html": [
       "<pre style=\"white-space:pre;overflow-x:auto;line-height:normal;font-family:Menlo,'DejaVu Sans Mono',consolas,'Courier New',monospace\"><span style=\"font-weight: bold\"> Non-trainable params: </span><span style=\"color: #00af00; text-decoration-color: #00af00\">0</span> (0.00 B)\n",
       "</pre>\n"
      ],
      "text/plain": [
       "\u001b[1m Non-trainable params: \u001b[0m\u001b[38;5;34m0\u001b[0m (0.00 B)\n"
      ]
     },
     "metadata": {},
     "output_type": "display_data"
    }
   ],
   "source": [
    "model = keras.models.Sequential([\n",
    "\n",
    "    keras.Input(shape=(28,28,1)),\n",
    "    layers.Conv2D(32,(3,3),activation=\"relu\"),\n",
    "    layers.MaxPooling2D((2,2)),\n",
    "\n",
    "    layers.Conv2D(64,(3,3),activation=\"relu\"),\n",
    "    layers.MaxPooling2D((2,2)),\n",
    "\n",
    "    layers.Conv2D(128,(3,3),activation=\"relu\"),\n",
    "\n",
    "    layers.Flatten(),\n",
    "    layers.Dense(128,activation=\"relu\"),\n",
    "    layers.Dense(47,activation=\"softmax\")\n",
    "])\n",
    "\n",
    "model.summary()"
   ]
  },
  {
   "cell_type": "code",
   "execution_count": 12,
   "id": "10f026ae-7bb8-475b-b4fd-1d7bbf9a0466",
   "metadata": {},
   "outputs": [],
   "source": [
    "model.compile(\n",
    "    optimizer = \"adam\",\n",
    "    loss=\"categorical_crossentropy\",\n",
    "    metrics=[\"accuracy\"]\n",
    ")"
   ]
  },
  {
   "cell_type": "markdown",
   "id": "85794330-840b-45f2-bdb2-f672c042a7ee",
   "metadata": {},
   "source": [
    "## Training the Model"
   ]
  },
  {
   "cell_type": "code",
   "execution_count": 13,
   "id": "da5173b9-dd5c-4407-baeb-8294b8b4826d",
   "metadata": {},
   "outputs": [
    {
     "name": "stdout",
     "output_type": "stream",
     "text": [
      "Epoch 1/10\n",
      "\u001b[1m882/882\u001b[0m \u001b[32m━━━━━━━━━━━━━━━━━━━━\u001b[0m\u001b[37m\u001b[0m \u001b[1m44s\u001b[0m 46ms/step - accuracy: 0.6166 - loss: 1.3620 - val_accuracy: 0.8344 - val_loss: 0.4898\n",
      "Epoch 2/10\n",
      "\u001b[1m882/882\u001b[0m \u001b[32m━━━━━━━━━━━━━━━━━━━━\u001b[0m\u001b[37m\u001b[0m \u001b[1m43s\u001b[0m 49ms/step - accuracy: 0.8520 - loss: 0.4313 - val_accuracy: 0.8535 - val_loss: 0.4263\n",
      "Epoch 3/10\n",
      "\u001b[1m882/882\u001b[0m \u001b[32m━━━━━━━━━━━━━━━━━━━━\u001b[0m\u001b[37m\u001b[0m \u001b[1m43s\u001b[0m 49ms/step - accuracy: 0.8715 - loss: 0.3647 - val_accuracy: 0.8689 - val_loss: 0.3787\n",
      "Epoch 4/10\n",
      "\u001b[1m882/882\u001b[0m \u001b[32m━━━━━━━━━━━━━━━━━━━━\u001b[0m\u001b[37m\u001b[0m \u001b[1m43s\u001b[0m 48ms/step - accuracy: 0.8835 - loss: 0.3271 - val_accuracy: 0.8755 - val_loss: 0.3678\n",
      "Epoch 5/10\n",
      "\u001b[1m882/882\u001b[0m \u001b[32m━━━━━━━━━━━━━━━━━━━━\u001b[0m\u001b[37m\u001b[0m \u001b[1m43s\u001b[0m 49ms/step - accuracy: 0.8890 - loss: 0.3010 - val_accuracy: 0.8714 - val_loss: 0.3713\n",
      "Epoch 6/10\n",
      "\u001b[1m882/882\u001b[0m \u001b[32m━━━━━━━━━━━━━━━━━━━━\u001b[0m\u001b[37m\u001b[0m \u001b[1m43s\u001b[0m 49ms/step - accuracy: 0.8965 - loss: 0.2797 - val_accuracy: 0.8681 - val_loss: 0.3784\n",
      "Epoch 7/10\n",
      "\u001b[1m882/882\u001b[0m \u001b[32m━━━━━━━━━━━━━━━━━━━━\u001b[0m\u001b[37m\u001b[0m \u001b[1m43s\u001b[0m 49ms/step - accuracy: 0.9001 - loss: 0.2616 - val_accuracy: 0.8739 - val_loss: 0.3743\n",
      "Epoch 8/10\n",
      "\u001b[1m882/882\u001b[0m \u001b[32m━━━━━━━━━━━━━━━━━━━━\u001b[0m\u001b[37m\u001b[0m \u001b[1m43s\u001b[0m 48ms/step - accuracy: 0.9052 - loss: 0.2451 - val_accuracy: 0.8732 - val_loss: 0.3640\n",
      "Epoch 9/10\n",
      "\u001b[1m882/882\u001b[0m \u001b[32m━━━━━━━━━━━━━━━━━━━━\u001b[0m\u001b[37m\u001b[0m \u001b[1m955s\u001b[0m 1s/step - accuracy: 0.9099 - loss: 0.2286 - val_accuracy: 0.8801 - val_loss: 0.3676\n",
      "Epoch 10/10\n",
      "\u001b[1m882/882\u001b[0m \u001b[32m━━━━━━━━━━━━━━━━━━━━\u001b[0m\u001b[37m\u001b[0m \u001b[1m41s\u001b[0m 46ms/step - accuracy: 0.9148 - loss: 0.2143 - val_accuracy: 0.8770 - val_loss: 0.3752\n"
     ]
    }
   ],
   "source": [
    "abc = model.fit(train_ds,validation_data=test_ds,epochs=10,verbose=1)"
   ]
  },
  {
   "cell_type": "markdown",
   "id": "846ec6f5-8005-471b-b3eb-6712ec10d257",
   "metadata": {},
   "source": [
    "## Evaluating and Testing the Model"
   ]
  },
  {
   "cell_type": "code",
   "execution_count": 14,
   "id": "d357aca7-acc1-4f05-9a7e-d81f22678ac2",
   "metadata": {
    "scrolled": true
   },
   "outputs": [
    {
     "name": "stdout",
     "output_type": "stream",
     "text": [
      "\u001b[1m147/147\u001b[0m \u001b[32m━━━━━━━━━━━━━━━━━━━━\u001b[0m\u001b[37m\u001b[0m \u001b[1m2s\u001b[0m 16ms/step - accuracy: 0.8774 - loss: 0.3701\n",
      "Test Loss: 0.37524884939193726, Test Accuracy: 0.8770212531089783\n"
     ]
    }
   ],
   "source": [
    "test_loss,test_accuracy = model.evaluate(test_ds)\n",
    "print(f\"Test Loss: {test_loss}, Test Accuracy: {test_accuracy}\")"
   ]
  },
  {
   "cell_type": "code",
   "execution_count": 15,
   "id": "cd902184-30f1-4a82-b774-dddf4ce1494b",
   "metadata": {
    "scrolled": true
   },
   "outputs": [
    {
     "name": "stdout",
     "output_type": "stream",
     "text": [
      "\u001b[1m1/1\u001b[0m \u001b[32m━━━━━━━━━━━━━━━━━━━━\u001b[0m\u001b[37m\u001b[0m \u001b[1m0s\u001b[0m 154ms/step\n"
     ]
    },
    {
     "data": {
      "image/png": "[encoded data removed]",
      "text/plain": [
       "<Figure size 1500x500 with 5 Axes>"
      ]
     },
     "metadata": {},
     "output_type": "display_data"
    }
   ],
   "source": [
    "class_names = [\n",
    "    \"0\", \"1\", \"2\", \"3\", \"4\", \"5\", \"6\", \"7\", \"8\", \"9\",\n",
    "    \"A\", \"B\", \"C\", \"D\", \"E\", \"F\", \"G\", \"H\", \"I\", \"J\",\n",
    "    \"K\", \"L\", \"M\", \"N\", \"O\", \"P\", \"Q\", \"R\", \"S\", \"T\",\n",
    "    \"U\", \"V\", \"W\", \"X\", \"Y\", \"Z\", \"a\", \"b\", \"c\", \"d\",\n",
    "    \"e\", \"f\", \"g\", \"h\", \"i\", \"j\", \"k\", \"l\", \"m\", \"n\",\n",
    "    \"o\", \"p\", \"q\", \"r\", \"s\", \"t\", \"u\", \"v\", \"w\", \"x\",\n",
    "    \"y\", \"z\"\n",
    "][:47] \n",
    "\n",
    "\n",
    "\n",
    "import random\n",
    "\n",
    "indices = random.sample(range(len(test_images)),5)\n",
    "samples = test_images[indices]\n",
    "true_labels = [np.argmax(test_labels[index]) for index in indices] \n",
    "predictions = model.predict(samples)\n",
    "predicted_labels =[np.argmax(pred) for pred in predictions]\n",
    "\n",
    "plt.figure(figsize = (15,5))\n",
    "for i,idx in enumerate(indices):\n",
    "    plt.subplot(1,5,i+1)\n",
    "    plt.imshow(samples[i].reshape(28,28),cmap=\"gray\")\n",
    "    plt.axis(\"off\")\n",
    "\n",
    "    true_label = class_names[true_labels[i]]\n",
    "    predicted_label = class_names[predicted_labels[i]]\n",
    "    confidence = np.max(predictions[i])\n",
    "    \n",
    "    title_color = \"green\" if true_labels[i] == predicted_labels[i] else \"red\"\n",
    "    plt.title(f\"Label: {true_label}\\nPrediction: {predicted_label} ({confidence:.2f})\", color=title_color)\n",
    "\n",
    "plt.tight_layout()\n",
    "plt.show()\n"
   ]
  }
 ],
 "metadata": {
  "kernelspec": {
   "display_name": "Python 3 (ipykernel)",
   "language": "python",
   "name": "python3"
  },
  "language_info": {
   "codemirror_mode": {
    "name": "ipython",
    "version": 3
   },
   "file_extension": ".py",
   "mimetype": "text/x-python",
   "name": "python",
   "nbconvert_exporter": "python",
   "pygments_lexer": "ipython3",
   "version": "3.12.10"
  }
 },
 "nbformat": 4,
 "nbformat_minor": 5
}
